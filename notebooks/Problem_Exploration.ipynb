{
 "metadata": {
  "name": "",
  "signature": "sha256:2e37825b321a99a71295c657672f9554fe2fa636206ad6943d6d3aa9e1be4801"
 },
 "nbformat": 3,
 "nbformat_minor": 0,
 "worksheets": [
  {
   "cells": [
    {
     "cell_type": "code",
     "collapsed": false,
     "input": [
      "#for handling tables of data within python\n",
      "import pandas\n",
      "\n",
      "#for connection to and communication to the posgres database\n",
      "import psycopg2\n",
      "from psycopg2 import Error\n",
      "\n",
      "#for making data visualizations for the reports\n",
      "import plotnine"
     ],
     "language": "python",
     "metadata": {},
     "outputs": [],
     "prompt_number": 5
    },
    {
     "cell_type": "code",
     "collapsed": false,
     "input": [
      "#store the general connection info\n",
      "un = \"postgres\"\n",
      "pw = \"cs425proj\"\n",
      "db = \"erp\""
     ],
     "language": "python",
     "metadata": {},
     "outputs": [],
     "prompt_number": 13
    },
    {
     "cell_type": "code",
     "collapsed": false,
     "input": [
      "#check to see if db tables exist. if not, create tables\n",
      "required_tables = ['inventory']\n",
      "\n",
      "try:\n",
      "    connection = psycopg2.connect(user = un,\n",
      "                                  password = pw,\n",
      "                                  host = \"127.0.0.1\",\n",
      "                                  port = \"5432\",\n",
      "                                  database = db)\n",
      "\n",
      "    cursor = connection.cursor()\n",
      "    \n",
      "### Using three single quotes allows us to write multiline strings.  This is just easier to read\n",
      "    \n",
      "    for tab in required_tables:\n",
      "        query = \"SELECT * FROM \" + tab + \";\"\n",
      "        print(query)\n",
      "# # run the query\n",
      "        try cursor.execute(query):\n",
      "            print(\"Table exists in PostgreSQL \")\n",
      "        except:\n",
      "            create_query = \n",
      "    # commit the results\n",
      "    connection.commit()\n",
      "\n",
      "except (Exception, psycopg2.DatabaseError) as error :\n",
      "    print (\"Error while creating PostgreSQL table\", error)\n",
      "finally:\n",
      "    #closing database connection.\n",
      "    if(connection):\n",
      "        cursor.close()\n",
      "        connection.close()\n",
      "        print(\"PostgreSQL connection is closed\")"
     ],
     "language": "python",
     "metadata": {},
     "outputs": [
      {
       "output_type": "stream",
       "stream": "stdout",
       "text": [
        "SELECT * FROM inventory;\n",
        "Table exists in PostgreSQL \n",
        "PostgreSQL connection is closed\n"
       ]
      }
     ],
     "prompt_number": 20
    },
    {
     "cell_type": "code",
     "collapsed": false,
     "input": [
      "#check to see if user roles exist. if not, create roles"
     ],
     "language": "python",
     "metadata": {},
     "outputs": [],
     "prompt_number": 21
    },
    {
     "cell_type": "code",
     "collapsed": false,
     "input": [
      "#check to see if users exist. if not, create users"
     ],
     "language": "python",
     "metadata": {},
     "outputs": []
    },
    {
     "cell_type": "code",
     "collapsed": false,
     "input": [
      "#ask terminal for username and password"
     ],
     "language": "python",
     "metadata": {},
     "outputs": []
    },
    {
     "cell_type": "code",
     "collapsed": false,
     "input": [
      "#look up role for user"
     ],
     "language": "python",
     "metadata": {},
     "outputs": []
    },
    {
     "cell_type": "code",
     "collapsed": false,
     "input": [
      "#if user does not exist, throw error"
     ],
     "language": "python",
     "metadata": {},
     "outputs": []
    },
    {
     "cell_type": "code",
     "collapsed": false,
     "input": [
      "#if user exists, show available actions given role"
     ],
     "language": "python",
     "metadata": {},
     "outputs": []
    }
   ],
   "metadata": {}
  }
 ]
}